{
 "cells": [
  {
   "cell_type": "code",
   "execution_count": 1,
   "id": "990f80a6-9727-42fb-ab43-a050c4297053",
   "metadata": {},
   "outputs": [],
   "source": [
    "import openai\n",
    "openai.api_key = \"xxxxxxxxxxxxxxxxxxx\"\n",
    "def q(prompt):\n",
    "\n",
    "# 调用API生成文本\n",
    "    response = openai.Completion.create(\n",
    "    engine=\"text-davinci-003\",\n",
    "    prompt=prompt,\n",
    "    temperature=0.5,\n",
    "    max_tokens=1000,\n",
    "    top_p=1,\n",
    "    frequency_penalty=0,\n",
    "    presence_penalty=0\n",
    ")\n",
    "\n",
    "# 打印生成的文本\n",
    "    print(response[\"choices\"][0][\"text\"])"
   ]
  },
  {
   "cell_type": "code",
   "execution_count": 4,
   "id": "d1dda9ac-7711-4ea4-9f9c-da92497ff4ef",
   "metadata": {},
   "outputs": [
    {
     "name": "stdout",
     "output_type": "stream",
     "text": [
      "\n",
      "\n",
      "1. 多出去走走：多走出舒适圈，去一些新的地方，如果有机会，多参加一些公共活动或者拜访朋友，这样可以让你更容易有机会结识新的朋友，也有可能遇到自己心仪的女孩。\n",
      "\n",
      "2. 加入一些社交圈：可以加入一些社交圈子，如果你有兴趣，可以加入一些兴趣小组，这样可以让你更容易结识志同道合的朋友，也有可能遇到自己心仪的女孩。\n",
      "\n",
      "3. 网络交友：现在网络交友已经成为一种很流行的方式，可以通过网络交友的方式，结识更多的朋友，也有可能遇到心仪的女孩。\n",
      "\n",
      "4. 发挥你的魅力：当你遇到一个心仪的女孩时，要发挥你的魅力，多多与她交流，可以通过一些游戏来了解彼此，并展示自己的优点，让她对你有好感。\n"
     ]
    }
   ],
   "source": [
    "q(\"如何找到女朋友\")"
   ]
  }
 ],
 "metadata": {
  "kernelspec": {
   "display_name": "Python 3 (ipykernel)",
   "language": "python",
   "name": "python3"
  },
  "language_info": {
   "codemirror_mode": {
    "name": "ipython",
    "version": 3
   },
   "file_extension": ".py",
   "mimetype": "text/x-python",
   "name": "python",
   "nbconvert_exporter": "python",
   "pygments_lexer": "ipython3",
   "version": "3.10.9"
  }
 },
 "nbformat": 4,
 "nbformat_minor": 5
}
