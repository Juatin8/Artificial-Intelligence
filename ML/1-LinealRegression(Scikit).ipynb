{
 "cells": [
  {
   "cell_type": "code",
   "execution_count": 4,
   "id": "88a2646e-aadb-4192-bbe3-d848ae410c22",
   "metadata": {},
   "outputs": [
    {
     "ename": "ModuleNotFoundError",
     "evalue": "No module named 'sklearn'",
     "output_type": "error",
     "traceback": [
      "\u001b[1;31m---------------------------------------------------------------------------\u001b[0m",
      "\u001b[1;31mModuleNotFoundError\u001b[0m                       Traceback (most recent call last)",
      "Cell \u001b[1;32mIn[4], line 4\u001b[0m\n\u001b[0;32m      2\u001b[0m \u001b[38;5;28;01mimport\u001b[39;00m \u001b[38;5;21;01mmatplotlib\u001b[39;00m\u001b[38;5;21;01m.\u001b[39;00m\u001b[38;5;21;01mpyplot\u001b[39;00m \u001b[38;5;28;01mas\u001b[39;00m \u001b[38;5;21;01mplt\u001b[39;00m\n\u001b[0;32m      3\u001b[0m \u001b[38;5;28;01mimport\u001b[39;00m \u001b[38;5;21;01mipynb_importer\u001b[39;00m\n\u001b[1;32m----> 4\u001b[0m \u001b[38;5;28;01mfrom\u001b[39;00m \u001b[38;5;21;01msklearn\u001b[39;00m\u001b[38;5;21;01m.\u001b[39;00m\u001b[38;5;21;01mlinear_model\u001b[39;00m \u001b[38;5;28;01mimport\u001b[39;00m SGDRegressor\n\u001b[0;32m      5\u001b[0m \u001b[38;5;28;01mfrom\u001b[39;00m \u001b[38;5;21;01msklearn\u001b[39;00m\u001b[38;5;21;01m.\u001b[39;00m\u001b[38;5;21;01mpreprocessing\u001b[39;00m \u001b[38;5;28;01mimport\u001b[39;00m StandardScaler\n",
      "\u001b[1;31mModuleNotFoundError\u001b[0m: No module named 'sklearn'"
     ]
    }
   ],
   "source": [
    "import numpy as np\n",
    "import matplotlib.pyplot as plt\n",
    "import ipynb_importer\n",
    "from sklearn.linear_model import SGDRegressor\n",
    "from sklearn.preprocessing import StandardScaler"
   ]
  },
  {
   "cell_type": "code",
   "execution_count": 3,
   "id": "da5e2f4a-70f6-4d41-b171-958c1d1df00e",
   "metadata": {},
   "outputs": [
    {
     "name": "stdout",
     "output_type": "stream",
     "text": [
      "importing Jupyter notebook from LoadData.ipynb\n"
     ]
    }
   ],
   "source": [
    "import LoadData as ld\n",
    "featurenum=4\n",
    "X_train,y_train =ld.load_data(featurenum)\n",
    "X_features = ['size(sqft)','bedrooms','floors','age']"
   ]
  },
  {
   "cell_type": "code",
   "execution_count": null,
   "id": "3a175836-b89f-4766-942a-af61849a9cef",
   "metadata": {},
   "outputs": [],
   "source": [
    "# 多feature和y关系图--用于初步判断feature和y的相关性\n",
    "fig,ax=plt.subplots(1, featurenum, figsize=(12, 3), sharey=True)\n",
    "for i in range(len(ax)):\n",
    "    ax[i].scatter(X_train[:,i],y_train)\n",
    "    ax[i].set_xlabel(X_features[i])\n",
    "ax[0].set_ylabel(\"Price (1000's)\")\n",
    "plt.show()"
   ]
  },
  {
   "cell_type": "code",
   "execution_count": null,
   "id": "2fefac55-dc9b-4893-9950-5f24a5909f88",
   "metadata": {},
   "outputs": [],
   "source": [
    "# 归一化 normalization\n",
    "scaler = StandardScaler()\n",
    "X_norm = scaler.fit_transform(X_train)"
   ]
  },
  {
   "cell_type": "code",
   "execution_count": null,
   "id": "17a0fa34-188e-4958-aebe-48f08aa8beeb",
   "metadata": {},
   "outputs": [],
   "source": [
    "# 线性回归计算\n",
    "sgdr = SGDRegressor(max_iter=1000)\n",
    "sgdr.fit(X_norm, y_train)\n",
    "print(sgdr)\n",
    "print(f\"number of iterations completed: {sgdr.n_iter_}, number of weight updates: {sgdr.t_}\")"
   ]
  },
  {
   "cell_type": "code",
   "execution_count": null,
   "id": "a7dff6b0-36d5-47e1-a20a-76e9ea2e20b8",
   "metadata": {},
   "outputs": [],
   "source": [
    "# 打印函数\n",
    "b_norm = sgdr.intercept_\n",
    "w_norm = sgdr.coef_\n",
    "function=\"\"\n",
    "for i in range(w_norm.size):\n",
    "    function=function+str(w_norm[i])+\"x\"+str(i)\n",
    "print(\"y=\"+ function+'+'+str(b_norm[0]))"
   ]
  },
  {
   "cell_type": "code",
   "execution_count": null,
   "id": "35af175c-a1ef-4843-8707-103752858702",
   "metadata": {},
   "outputs": [],
   "source": [
    "print(w_norm)"
   ]
  },
  {
   "cell_type": "code",
   "execution_count": null,
   "id": "e05f1549-bd25-426e-8d56-b3a950329edc",
   "metadata": {},
   "outputs": [],
   "source": [
    "# 预测\n",
    "X_predict= np.array([[200,20,100,5]])\n",
    "X_predit_norm = scaler.fit_transform(X_predict)\n",
    "y_pred = sgdr.predict(X_predit_norm)  \n",
    "\n",
    "print(y_pred[0])"
   ]
  }
 ],
 "metadata": {
  "kernelspec": {
   "display_name": "Python 3 (ipykernel)",
   "language": "python",
   "name": "python3"
  },
  "language_info": {
   "codemirror_mode": {
    "name": "ipython",
    "version": 3
   },
   "file_extension": ".py",
   "mimetype": "text/x-python",
   "name": "python",
   "nbconvert_exporter": "python",
   "pygments_lexer": "ipython3",
   "version": "3.10.9"
  }
 },
 "nbformat": 4,
 "nbformat_minor": 5
}
