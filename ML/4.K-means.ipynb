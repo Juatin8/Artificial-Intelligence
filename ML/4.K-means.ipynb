{
 "cells": [
  {
   "cell_type": "code",
   "execution_count": 1,
   "id": "e9000b86-4acf-4e94-87e2-31843a7f4108",
   "metadata": {},
   "outputs": [],
   "source": [
    "import numpy as np\n",
    "import matplotlib.pyplot as plt\n",
    "import ipynb_importer"
   ]
  },
  {
   "cell_type": "code",
   "execution_count": 2,
   "id": "e3b3745e-6572-4804-94bd-a980fb631f42",
   "metadata": {},
   "outputs": [],
   "source": [
    "# 加载数据\n",
    "def load_data():\n",
    "    X = np.load(\"data/ex7_X.npy\")\n",
    "    return X\n",
    "X=load_data()"
   ]
  },
  {
   "cell_type": "code",
   "execution_count": 3,
   "id": "a48b9ce4-2457-4958-ae51-3c9dba2cafdc",
   "metadata": {},
   "outputs": [],
   "source": [
    "# 随机生成中心点\n",
    "def kMeans_init_centroids(X, K):\n",
    "    randidx = np.random.permutation(X.shape[0])\n",
    "    centroids = X[randidx[:K]]\n",
    "    return centroids"
   ]
  },
  {
   "cell_type": "code",
   "execution_count": 4,
   "id": "64c82037-f218-4e3d-bcd4-a481afac9214",
   "metadata": {},
   "outputs": [],
   "source": [
    "#寻找最近的中心点的index\n",
    "def find_closest_centroids(X, centroids):\n",
    "    K = centroids.shape[0]\n",
    "    idx = np.zeros(X.shape[0], dtype=int)\n",
    "    \n",
    "    for i in range(X.shape[0]):\n",
    "        distance = []\n",
    "        for j in range(centroids.shape[0]):\n",
    "            norm_ij = np.linalg.norm(X[i]-centroids[j], ord=2, axis=None, keepdims=False) #计算数据到中心距离 # Your code to calculate the norm between (X[i] - centroids[j])\n",
    "            distance.append(norm_ij)\n",
    "        idx[i] = np.argmin(distance, axis=None, out=None)\n",
    "    return idx"
   ]
  },
  {
   "cell_type": "code",
   "execution_count": 1,
   "id": "eecd04a9-5518-425b-8948-a0292f36f88d",
   "metadata": {},
   "outputs": [],
   "source": [
    "#寻找中心点\n",
    "def compute_centroids(X, idx, K):\n",
    "    m, n = X.shape\n",
    "\n",
    "    centroids = np.zeros((K, n))\n",
    "\n",
    "    for k in range(K):\n",
    "        points = X[idx == k]\n",
    "        centroids[k] = np.mean(points, axis = 0)\n",
    "    return centroids"
   ]
  },
  {
   "cell_type": "code",
   "execution_count": 6,
   "id": "f74238be-04e5-4e96-b710-fc9f12066737",
   "metadata": {},
   "outputs": [],
   "source": [
    "# 运行K-means\n",
    "def run_kMeans(X, initial_centroids, max_iters=10):\n",
    "    # Initialize values\n",
    "    m, n = X.shape\n",
    "    K = initial_centroids.shape[0]\n",
    "    centroids = initial_centroids\n",
    "    previous_centroids = centroids    \n",
    "    idx = np.zeros(m)\n",
    "    \n",
    "    # Run K-Means\n",
    "    for i in range(max_iters):\n",
    "        print(\"K-Means iteration %d/%d\" % (i, max_iters-1))     \n",
    "        idx = find_closest_centroids(X, centroids)\n",
    "        centroids = compute_centroids(X, idx, K)\n",
    "    plt.show() \n",
    "    return centroids, idx"
   ]
  },
  {
   "cell_type": "code",
   "execution_count": 7,
   "id": "9f9c1383-5cf6-4f4c-9d72-767207da0f94",
   "metadata": {},
   "outputs": [
    {
     "name": "stdout",
     "output_type": "stream",
     "text": [
      "K-Means iteration 0/9\n",
      "K-Means iteration 1/9\n",
      "K-Means iteration 2/9\n",
      "K-Means iteration 3/9\n",
      "K-Means iteration 4/9\n",
      "K-Means iteration 5/9\n",
      "K-Means iteration 6/9\n",
      "K-Means iteration 7/9\n",
      "K-Means iteration 8/9\n",
      "K-Means iteration 9/9\n",
      "[[1.95399466 5.02557006]\n",
      " [3.04367119 1.01541041]\n",
      " [6.03366736 3.00052511]]\n"
     ]
    }
   ],
   "source": [
    "# Load an example dataset\n",
    "X = load_data()\n",
    "\n",
    "# Set initial centroids\n",
    "initial_centroids = np.array([[3,3],[6,2],[8,5]])\n",
    "K = 3\n",
    "max_iters = 10\n",
    "\n",
    "centroids, idx = run_kMeans(X, initial_centroids, max_iters)\n",
    "print(centroids)"
   ]
  }
 ],
 "metadata": {
  "kernelspec": {
   "display_name": "Python 3 (ipykernel)",
   "language": "python",
   "name": "python3"
  },
  "language_info": {
   "codemirror_mode": {
    "name": "ipython",
    "version": 3
   },
   "file_extension": ".py",
   "mimetype": "text/x-python",
   "name": "python",
   "nbconvert_exporter": "python",
   "pygments_lexer": "ipython3",
   "version": "3.10.9"
  }
 },
 "nbformat": 4,
 "nbformat_minor": 5
}
