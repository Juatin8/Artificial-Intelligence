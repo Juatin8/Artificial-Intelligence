{
 "cells": [
  {
   "cell_type": "code",
   "execution_count": 1,
   "id": "4ba12a8f",
   "metadata": {},
   "outputs": [],
   "source": [
    "import YXJ\n",
    "import torch\n",
    "from torch.utils.data import TensorDataset, DataLoader\n",
    "import pandas as pd\n",
    "import numpy as np\n",
    "# ----------------------------------- 数据提取 -------------------------------- \n",
    "file_names1 = ['A1', 'A2', 'A1','A1','A1','A3', 'A1','A4', 'A1']\n",
    "file_names2 = ['R1', 'R2', 'R1','R1','R1','R3', 'R1','R4','R1']\n",
    "file_names3 = ['G1', 'G2', 'G1','G1','G1','G3', 'G1','G4','G1']\n",
    "data_frames = []\n",
    "\n",
    "for name in file_names1:\n",
    "    df = pd.read_excel(f\"data/{name}.xlsx\")\n",
    "    data_frames.append(df)\n",
    "\n",
    "df1 = pd.concat(data_frames, axis=0)\n",
    "\n",
    "data_frames = []\n",
    "\n",
    "for name in file_names2:\n",
    "    df = pd.read_excel(f\"data/{name}.xlsx\")\n",
    "    data_frames.append(df)\n",
    "\n",
    "df2 = pd.concat(data_frames, axis=0)\n",
    "\n",
    "data_frames = []\n",
    "\n",
    "for name in file_names3:\n",
    "    df = pd.read_excel(f\"data/{name}.xlsx\")\n",
    "    data_frames.append(df)\n",
    "\n",
    "df3 = pd.concat(data_frames, axis=0)"
   ]
  },
  {
   "cell_type": "code",
   "execution_count": 2,
   "id": "58c70ba9",
   "metadata": {},
   "outputs": [],
   "source": [
    "df1.columns = [\"Timestamp\", \"Acceleration-X\", \"Acceleration-Y\", \"Acceleration-Z\"]  \n",
    "df2.columns = [\"Timestamp\", \"AngularVelocity-X\", \"AngularVelocity-Y\", \"AngularVelocity-Z\"]\n",
    "df3.columns = [\"Timestamp\",\"latitude\", \"longitude\", \"altitude\",\"speed\",\"cource\",\"hacc\"]\n",
    "\n",
    "# 从表格中提取collum作为numpy数组\n",
    "timestamp = df1[\"Timestamp\"].to_numpy()\n",
    "acceleration_x = df1[\"Acceleration-X\"].to_numpy()\n",
    "acceleration_y = df1[\"Acceleration-Y\"].to_numpy()\n",
    "acceleration_z = df1[\"Acceleration-Z\"].to_numpy()\n",
    "\n",
    "latitude = df3[\"latitude\"].to_numpy()\n",
    "longitude = df3[\"longitude\"].to_numpy()\n",
    "altitude = df3[\"altitude\"].to_numpy()\n",
    "\n",
    "IMUdataLength =len(acceleration_x)\n",
    "GPSdataLength =len(latitude)\n",
    "\n",
    "#拉长数据，线性插值\n",
    "upsampled_la= YXJ.upsampling(IMUdataLength, latitude)\n",
    "upsampled_al =YXJ.upsampling(IMUdataLength, altitude)\n",
    "upsampled_lo =YXJ.upsampling(IMUdataLength, longitude)\n",
    "\n",
    "### --------------------------------------- 归一化---------------------------------------------\n",
    "lo, al, la, x, y, z = [YXJ.normalization(data) for data in [upsampled_lo, upsampled_al, upsampled_la, acceleration_x, acceleration_y, acceleration_z]]"
   ]
  },
  {
   "cell_type": "code",
   "execution_count": 3,
   "id": "ce17db6e",
   "metadata": {},
   "outputs": [],
   "source": [
    "# ----------------------------------- 打标签 --------------------------------\n",
    "'''#生成一个同长度的numpy，随机0，1\n",
    "isSmoke = np.random.randint(2, size=IMUdataLength)\n",
    "print(isSmoke)\n",
    "'''\n",
    "# 将时间戳转换为datetime类型\n",
    "timestamp = df1[\"Timestamp\"].to_numpy()\n",
    "datetime_array = np.array([pd.to_datetime(ts) for ts in timestamp])\n",
    "\n",
    "# 转换为pandas的DateTimeIndex对象\n",
    "datetime_index = pd.DatetimeIndex(datetime_array)\n",
    "\n",
    "# 标记日期为9号的数据为1，其余为0\n",
    "isSmoke = np.where(datetime_index.day == 9, 1, 0)"
   ]
  },
  {
   "cell_type": "code",
   "execution_count": 4,
   "id": "b724db47",
   "metadata": {},
   "outputs": [
    {
     "name": "stderr",
     "output_type": "stream",
     "text": [
      "C:\\Users\\65133\\AppData\\Local\\Temp\\ipykernel_20220\\2040150335.py:2: UserWarning: Creating a tensor from a list of numpy.ndarrays is extremely slow. Please consider converting the list to a single numpy.ndarray with numpy.array() before converting to a tensor. (Triggered internally at  C:\\cb\\pytorch_1000000000000\\work\\torch\\csrc\\utils\\tensor_new.cpp:204.)\n",
      "  X_data = torch.tensor([x, y, z, lo, al, la]).T\n"
     ]
    }
   ],
   "source": [
    "### ------------------------------------合并数据并转成tensor---------------------------------------------\n",
    "X_data = torch.tensor([x, y, z, lo, al, la]).T\n",
    "y_data = torch.tensor(isSmoke)"
   ]
  },
  {
   "cell_type": "code",
   "execution_count": 5,
   "id": "46085d95",
   "metadata": {},
   "outputs": [
    {
     "name": "stdout",
     "output_type": "stream",
     "text": [
      "torch.Size([1972, 6, 100])\n"
     ]
    }
   ],
   "source": [
    "## --------------------------------------- 划分样本---------------------------------------------\n",
    "width =100           # 单个样本的长度\n",
    "X_data = YXJ.Split2Samples(X_data, width)                # 等分分割全部历史数据生成多个样本\n",
    "X_data = torch.transpose(X_data, 0, 2).transpose(0, 1)    # 转换成：[样本数量，features，单个样本长度]\n",
    "print(X_data.shape) "
   ]
  },
  {
   "cell_type": "code",
   "execution_count": 6,
   "id": "a411dde2",
   "metadata": {},
   "outputs": [
    {
     "name": "stdout",
     "output_type": "stream",
     "text": [
      "1972\n",
      "torch.Size([1972, 1])\n"
     ]
    }
   ],
   "source": [
    "# ------------------------------标签处理-------------------------------------\n",
    "num_samples = y_data.shape[0] // width    # 计算样本数量\n",
    "y_data = y_data[:num_samples * width]     # 在样本长度上截断以确保样本之间的连续性\n",
    "chunked_labels = torch.chunk(y_data, chunks=num_samples, dim=0)  # 按照第0维度分割，分割成num_samples份\n",
    "\n",
    "new_labels = torch.zeros(num_samples, 1)    # 新建一个形状为(num_samples, 1)的全零tensor\n",
    "for i, chunk in enumerate(chunked_labels):\n",
    "    if torch.sum(chunk) > 0:             # 如果该chunk中包含1，则该chunk标记为1\n",
    "        new_labels[i] = 1\n",
    "\n",
    "y_data = new_labels\n",
    "print(num_samples)\n",
    "print(y_data.shape)\n",
    "\n",
    "# 检查是否有GPU可用\n",
    "device = torch.device('cuda' if torch.cuda.is_available() else 'cpu')\n",
    "\n",
    "# 数据转化为float（CNN的计算要float单精度类型）, 并移动到GPU上（加速计算）\n",
    "y_data = y_data.float().to(device)\n",
    "X_data = X_data.float().to(device)"
   ]
  },
  {
   "cell_type": "code",
   "execution_count": 7,
   "id": "0f518dd6",
   "metadata": {},
   "outputs": [
    {
     "name": "stdout",
     "output_type": "stream",
     "text": [
      "torch.Size([32, 6, 100]) torch.Size([32, 1])\n",
      "torch.Size([32, 6, 100]) torch.Size([32, 1])\n",
      "torch.Size([32, 6, 100]) torch.Size([32, 1])\n",
      "torch.Size([32, 6, 100]) torch.Size([32, 1])\n",
      "torch.Size([32, 6, 100]) torch.Size([32, 1])\n",
      "torch.Size([32, 6, 100]) torch.Size([32, 1])\n",
      "torch.Size([32, 6, 100]) torch.Size([32, 1])\n",
      "torch.Size([32, 6, 100]) torch.Size([32, 1])\n",
      "torch.Size([32, 6, 100]) torch.Size([32, 1])\n",
      "torch.Size([32, 6, 100]) torch.Size([32, 1])\n",
      "torch.Size([32, 6, 100]) torch.Size([32, 1])\n",
      "torch.Size([32, 6, 100]) torch.Size([32, 1])\n",
      "torch.Size([32, 6, 100]) torch.Size([32, 1])\n",
      "torch.Size([32, 6, 100]) torch.Size([32, 1])\n",
      "torch.Size([32, 6, 100]) torch.Size([32, 1])\n",
      "torch.Size([32, 6, 100]) torch.Size([32, 1])\n",
      "torch.Size([32, 6, 100]) torch.Size([32, 1])\n",
      "torch.Size([32, 6, 100]) torch.Size([32, 1])\n",
      "torch.Size([32, 6, 100]) torch.Size([32, 1])\n",
      "torch.Size([32, 6, 100]) torch.Size([32, 1])\n",
      "torch.Size([32, 6, 100]) torch.Size([32, 1])\n",
      "torch.Size([32, 6, 100]) torch.Size([32, 1])\n",
      "torch.Size([32, 6, 100]) torch.Size([32, 1])\n",
      "torch.Size([32, 6, 100]) torch.Size([32, 1])\n",
      "torch.Size([32, 6, 100]) torch.Size([32, 1])\n",
      "torch.Size([32, 6, 100]) torch.Size([32, 1])\n",
      "torch.Size([32, 6, 100]) torch.Size([32, 1])\n",
      "torch.Size([32, 6, 100]) torch.Size([32, 1])\n",
      "torch.Size([32, 6, 100]) torch.Size([32, 1])\n",
      "torch.Size([32, 6, 100]) torch.Size([32, 1])\n",
      "torch.Size([32, 6, 100]) torch.Size([32, 1])\n",
      "torch.Size([32, 6, 100]) torch.Size([32, 1])\n",
      "torch.Size([32, 6, 100]) torch.Size([32, 1])\n",
      "torch.Size([32, 6, 100]) torch.Size([32, 1])\n",
      "torch.Size([32, 6, 100]) torch.Size([32, 1])\n",
      "torch.Size([32, 6, 100]) torch.Size([32, 1])\n",
      "torch.Size([32, 6, 100]) torch.Size([32, 1])\n",
      "torch.Size([32, 6, 100]) torch.Size([32, 1])\n",
      "torch.Size([32, 6, 100]) torch.Size([32, 1])\n",
      "torch.Size([32, 6, 100]) torch.Size([32, 1])\n",
      "torch.Size([32, 6, 100]) torch.Size([32, 1])\n",
      "torch.Size([32, 6, 100]) torch.Size([32, 1])\n",
      "torch.Size([32, 6, 100]) torch.Size([32, 1])\n",
      "torch.Size([32, 6, 100]) torch.Size([32, 1])\n",
      "torch.Size([32, 6, 100]) torch.Size([32, 1])\n",
      "torch.Size([32, 6, 100]) torch.Size([32, 1])\n",
      "torch.Size([32, 6, 100]) torch.Size([32, 1])\n",
      "torch.Size([32, 6, 100]) torch.Size([32, 1])\n",
      "torch.Size([32, 6, 100]) torch.Size([32, 1])\n",
      "torch.Size([9, 6, 100]) torch.Size([9, 1])\n",
      "50\n",
      "13\n"
     ]
    }
   ],
   "source": [
    "# --------------------------------------- 划分训练集和测试集---------------------------------------------\n",
    "# 将输入数据 x 和对应的标签 y 封装为一个 TensorDataset 对象\n",
    "dataset = TensorDataset(X_data, y_data)\n",
    "\n",
    "# 划分训练集和测试集\n",
    "train_dataset, test_dataset = YXJ.split_dataset(dataset)\n",
    "\n",
    "# 定义数据加载器,样本分批次\n",
    "batch_size = 32\n",
    "train_loader = DataLoader(train_dataset, batch_size=batch_size, shuffle=True)\n",
    "test_loader = DataLoader(test_dataset, batch_size=batch_size, shuffle=True)\n",
    "\n",
    "#检查数据结构\n",
    "for batch_x, batch_y in train_loader:\n",
    "    print(batch_x.shape, batch_y.shape)\n",
    "print(len(train_loader))\n",
    "print(len(test_loader))"
   ]
  },
  {
   "cell_type": "code",
   "execution_count": 8,
   "id": "31dba134",
   "metadata": {},
   "outputs": [],
   "source": [
    "import torch\n",
    "import torch.nn as nn\n",
    "\n",
    "### 定义模型的结构：6条1D的CNN\n",
    "out_channels =64\n",
    "kernel_size = [3,2]\n",
    "padding=1\n",
    "stride=1\n",
    "layers_num = 6\n",
    "class ParallelConvModel(nn.Module):   #nn.Module是PyTorch中用于构建神经网络的基类\n",
    "    ## 定义神经网络的各个层的情况\n",
    "    def __init__(self):  \n",
    "        super(ParallelConvModel, self).__init__()  #这是一个构造函数，被调用后可以实例化你自定义的这个神经网络   super()函数来调用基类的构造函数或方法  self相当于C#中的this\n",
    "        self.conv_layers = nn.ModuleList()\n",
    "        for i in range(layers_num):\n",
    "            conv_layer = nn.Sequential(\n",
    "                nn.Conv1d(in_channels=1, out_channels=out_channels, kernel_size=kernel_size[0], padding=padding,stride=stride),     \n",
    "                #in_channels=1 输入的特征数量 #out_channels=64 可以理解成要提取多少个特征    #kernel_size 卷积核的大小  #stride默认为1\n",
    "                # 1D卷积层需要的是形状为(batch_size,输入通道, 序列长度)\n",
    "                # 每个卷积层的输出形状为 (batch_size, out_channels, sequence_length)\n",
    "                nn.ReLU(),\n",
    "                nn.MaxPool1d(kernel_size=kernel_size[1]), # 每次池化操作后，序列长度会减半\n",
    "                nn.Flatten() # 除了 batch_size 会被保留外，其余的维度压平到一个维度上 （batch_size(32), out_features*sequence_length(64*20/2)）\n",
    "            )\n",
    "            self.conv_layers.append(conv_layer)\n",
    "        outputshape = int(YXJ.calc_conv_outputshape(width, kernel_size[0], stride, padding)*out_channels*0.5*layers_num) # 计算卷积层的输出数量\n",
    "        self.dense_layer = nn.Sequential(\n",
    "            nn.Linear(outputshape, 30),  # 输入数量，输出数量）\n",
    "            nn.Linear(30, 1),   \n",
    "            nn.Sigmoid()  # 二分类问题，最终输出的是0-1之间的值\n",
    "        )\n",
    "\n",
    "    ## 定义向前传播过程\n",
    "    def forward(self, x):\n",
    "        conv_outputs = []  # 用于保存所有卷积层的输出\n",
    "        for i in range(6):\n",
    "            feature_i = x[:, i:i+1, :]                     # 沿着feature维度分割输入张量，选择第i个feature  分割后的形状(batch_size, 1, sequence_length)\n",
    "            conv_output_i = self.conv_layers[i](feature_i) # 将第i个feature通过第i层卷积层\n",
    "            conv_outputs.append(conv_output_i)             # 将第i层卷积层的输出添加到卷积层输出列表\n",
    "        conv_output = torch.cat(conv_outputs, dim=1)       # 沿着feature维度将所有卷积层输出拼接起来\n",
    "        dense_output = self.dense_layer(conv_output)       # 将拼接的卷积层输出通过全连接层\n",
    "        return dense_output  "
   ]
  },
  {
   "cell_type": "code",
   "execution_count": 9,
   "id": "0318443a",
   "metadata": {},
   "outputs": [
    {
     "name": "stdout",
     "output_type": "stream",
     "text": [
      "Epoch [1/100], Loss: 0.6060\n",
      "Epoch [2/100], Loss: 0.1057\n",
      "Epoch [3/100], Loss: 0.0839\n",
      "Epoch [4/100], Loss: 0.0789\n",
      "Epoch [5/100], Loss: 0.0962\n",
      "Epoch [6/100], Loss: 0.0607\n",
      "Epoch [7/100], Loss: 0.0742\n",
      "Epoch [8/100], Loss: 0.0572\n",
      "Epoch [9/100], Loss: 0.0692\n",
      "Epoch [10/100], Loss: 0.0582\n",
      "Epoch [11/100], Loss: 0.0453\n",
      "Epoch [12/100], Loss: 0.0451\n",
      "Epoch [13/100], Loss: 0.0475\n",
      "Epoch [14/100], Loss: 0.0544\n",
      "Epoch [15/100], Loss: 0.0880\n",
      "Epoch [16/100], Loss: 0.0387\n",
      "Epoch [17/100], Loss: 0.0488\n",
      "Epoch [18/100], Loss: 0.0458\n",
      "Epoch [19/100], Loss: 0.0353\n",
      "Epoch [20/100], Loss: 0.0486\n",
      "Epoch [21/100], Loss: 0.0380\n",
      "Epoch [22/100], Loss: 0.0406\n",
      "Epoch [23/100], Loss: 0.0439\n",
      "Epoch [24/100], Loss: 0.0419\n",
      "Epoch [25/100], Loss: 0.0378\n",
      "Epoch [26/100], Loss: 0.0333\n",
      "Epoch [27/100], Loss: 0.0382\n",
      "Epoch [28/100], Loss: 0.0426\n",
      "Epoch [29/100], Loss: 0.0397\n",
      "Epoch [30/100], Loss: 0.0358\n",
      "Epoch [31/100], Loss: 0.0397\n",
      "Epoch [32/100], Loss: 0.0331\n",
      "Epoch [33/100], Loss: 0.0331\n",
      "Epoch [34/100], Loss: 0.0319\n",
      "Epoch [35/100], Loss: 0.0253\n",
      "Epoch [36/100], Loss: 0.0395\n",
      "Epoch [37/100], Loss: 0.0395\n",
      "Epoch [38/100], Loss: 0.0292\n",
      "Epoch [39/100], Loss: 0.0261\n",
      "Epoch [40/100], Loss: 0.0316\n",
      "Epoch [41/100], Loss: 0.0227\n",
      "Epoch [42/100], Loss: 0.0266\n",
      "Epoch [43/100], Loss: 0.0226\n",
      "Epoch [44/100], Loss: 0.0201\n",
      "Epoch [45/100], Loss: 0.0236\n",
      "Epoch [46/100], Loss: 0.0295\n",
      "Epoch [47/100], Loss: 0.0284\n",
      "Epoch [48/100], Loss: 0.0245\n",
      "Epoch [49/100], Loss: 0.0245\n",
      "Epoch [50/100], Loss: 0.0296\n",
      "Epoch [51/100], Loss: 0.0259\n",
      "Epoch [52/100], Loss: 0.0331\n",
      "Epoch [53/100], Loss: 0.0203\n",
      "Epoch [54/100], Loss: 0.0179\n",
      "Epoch [55/100], Loss: 0.0189\n",
      "Epoch [56/100], Loss: 0.0264\n",
      "Epoch [57/100], Loss: 0.0202\n",
      "Epoch [58/100], Loss: 0.0235\n",
      "Epoch [59/100], Loss: 0.0259\n",
      "Epoch [60/100], Loss: 0.0223\n",
      "Epoch [61/100], Loss: 0.0237\n",
      "Epoch [62/100], Loss: 0.0171\n",
      "Epoch [63/100], Loss: 0.0190\n",
      "Epoch [64/100], Loss: 0.0226\n",
      "Epoch [65/100], Loss: 0.0184\n",
      "Epoch [66/100], Loss: 0.0233\n",
      "Epoch [67/100], Loss: 0.0161\n",
      "Epoch [68/100], Loss: 0.0159\n",
      "Epoch [69/100], Loss: 0.0156\n",
      "Epoch [70/100], Loss: 0.0148\n",
      "Epoch [71/100], Loss: 0.0126\n",
      "Epoch [72/100], Loss: 0.0236\n",
      "Epoch [73/100], Loss: 0.0155\n",
      "Epoch [74/100], Loss: 0.0153\n",
      "Epoch [75/100], Loss: 0.0235\n",
      "Epoch [76/100], Loss: 0.0246\n",
      "Epoch [77/100], Loss: 0.0184\n",
      "Epoch [78/100], Loss: 0.0150\n",
      "Epoch [79/100], Loss: 0.0192\n",
      "Epoch [80/100], Loss: 0.0205\n",
      "Epoch [81/100], Loss: 0.0182\n",
      "Epoch [82/100], Loss: 0.0131\n",
      "Epoch [83/100], Loss: 0.0138\n",
      "Epoch [84/100], Loss: 0.0131\n",
      "Epoch [85/100], Loss: 0.0124\n",
      "Epoch [86/100], Loss: 0.0228\n",
      "Epoch [87/100], Loss: 0.0139\n",
      "Epoch [88/100], Loss: 0.0143\n",
      "Epoch [89/100], Loss: 0.0117\n",
      "Epoch [90/100], Loss: 0.0129\n",
      "Epoch [91/100], Loss: 0.0133\n",
      "Epoch [92/100], Loss: 0.0121\n",
      "Epoch [93/100], Loss: 0.0131\n",
      "Epoch [94/100], Loss: 0.0106\n",
      "Epoch [95/100], Loss: 0.0099\n",
      "Epoch [96/100], Loss: 0.0120\n",
      "Epoch [97/100], Loss: 0.0244\n",
      "Epoch [98/100], Loss: 0.0112\n",
      "Epoch [99/100], Loss: 0.0122\n",
      "Epoch [100/100], Loss: 0.0155\n"
     ]
    },
    {
     "data": {
      "image/png": "[encoded data removed]",
      "text/plain": [
       "<Figure size 640x480 with 1 Axes>"
      ]
     },
     "metadata": {},
     "output_type": "display_data"
    }
   ],
   "source": [
    "### ------------------------------训练模型-------------------------------------\n",
    "import torch.optim as optim\n",
    "\n",
    "losses = []   # 存储损失值的列表\n",
    "# 定义模型和训练器\n",
    "model = ParallelConvModel()  # 实例化模型\n",
    "criterion = nn.BCELoss()   # 二分类交叉熵损失函数\n",
    "optimizer = optim.Adam(model.parameters(), lr=0.001)  # Adam优化器\n",
    "\n",
    "model.to(device) # 将模型移动到GPU上\n",
    "\n",
    "# 训练\n",
    "num_epochs = 100\n",
    "model,losses=YXJ.train_model(model, train_loader, criterion, optimizer, num_epochs) # 调用训练函数,返回模型和loss值\n",
    "YXJ.draw_loss(losses)"
   ]
  },
  {
   "cell_type": "code",
   "execution_count": 10,
   "id": "aeeb8c3f",
   "metadata": {},
   "outputs": [],
   "source": [
    "# 保存模型\n",
    "torch.save(model.state_dict(), 'model.pth')"
   ]
  },
  {
   "cell_type": "code",
   "execution_count": 11,
   "id": "0d47d417",
   "metadata": {},
   "outputs": [
    {
     "name": "stdout",
     "output_type": "stream",
     "text": [
      "Accuracy: 98.73%\n",
      "F1 score: 91.11%\n",
      "Recall: 97.62%\n",
      "Precision: 94.25%\n"
     ]
    },
    {
     "data": {
      "image/png": "[encoded data removed]",
      "text/plain": [
       "<Figure size 640x480 with 2 Axes>"
      ]
     },
     "metadata": {},
     "output_type": "display_data"
    }
   ],
   "source": [
    "# 加载保存的模型参数\n",
    "checkpoint = torch.load('model.pth') \n",
    "new_model=ParallelConvModel() #实例化模型\n",
    "new_model.load_state_dict(checkpoint) \n",
    "\n",
    "### ------------------------------测试模型-------------------------------------\n",
    "accuracy, f1, recall, precision,cm = YXJ.calculate_metrics(model, test_loader)\n",
    "print('Accuracy: {:.2f}%'.format(accuracy*100))\n",
    "print('F1 score: {:.2f}%'.format(f1*100)) \n",
    "print('Recall: {:.2f}%'.format(recall*100))\n",
    "print('Precision: {:.2f}%'.format(precision*100))\n",
    "\n",
    "# 混淆矩阵\n",
    "YXJ.plot_cm(cm)\n"
   ]
  },
  {
   "cell_type": "code",
   "execution_count": 12,
   "id": "117861af",
   "metadata": {},
   "outputs": [
    {
     "name": "stdout",
     "output_type": "stream",
     "text": [
      "0.0000\n"
     ]
    }
   ],
   "source": [
    "### ------------------------------推理/预测-------------------------------------\n",
    "model_path = 'model.pth'\n",
    "data=torch.rand((1,6, 100)) # 生成随机数据\n",
    "new_model=ParallelConvModel() #实例化模型\n",
    "predict=YXJ.predict(new_model,model_path, data) # 调用预测函数\n",
    "print(f\"{predict.item():.4f}\")"
   ]
  }
 ],
 "metadata": {
  "kernelspec": {
   "display_name": "Python 3 (ipykernel)",
   "language": "python",
   "name": "python3"
  },
  "language_info": {
   "codemirror_mode": {
    "name": "ipython",
    "version": 3
   },
   "file_extension": ".py",
   "mimetype": "text/x-python",
   "name": "python",
   "nbconvert_exporter": "python",
   "pygments_lexer": "ipython3",
   "version": "3.10.9"
  }
 },
 "nbformat": 4,
 "nbformat_minor": 5
}
